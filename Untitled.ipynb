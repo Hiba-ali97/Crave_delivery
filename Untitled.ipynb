{
 "cells": [
  {
   "cell_type": "code",
   "execution_count": 49,
   "id": "c8a8c743",
   "metadata": {},
   "outputs": [],
   "source": [
    "import requests\n",
    "URL = \"http://localhost:8000\""
   ]
  },
  {
   "cell_type": "code",
   "execution_count": 50,
   "id": "285df652",
   "metadata": {},
   "outputs": [],
   "source": [
    "data = {\n",
    "    'id_credit': 76,\n",
    "    'name': 'may',\n",
    "    'password': 'password123',\n",
    "    'phone_number': 12368764,\n",
    "    'vip': 0,\n",
    "    'location_lat': 37.12345,\n",
    "    'location_lng': -122.67890,\n",
    "    'location_address': '123 Main St'\n",
    "}"
   ]
  },
  {
   "cell_type": "code",
   "execution_count": 51,
   "id": "9a336a97",
   "metadata": {},
   "outputs": [],
   "source": [
    "response = requests.post(f'{URL}/customers/register', json=data)"
   ]
  },
  {
   "cell_type": "code",
   "execution_count": 52,
   "id": "fc982e36",
   "metadata": {},
   "outputs": [
    {
     "name": "stdout",
     "output_type": "stream",
     "text": [
      "Failed to create customer\n",
      "b'{\"detail\":[{\"loc\":[\"body\",\"id_customer\"],\"msg\":\"field required\",\"type\":\"value_error.missing\"}]}'\n"
     ]
    }
   ],
   "source": [
    "if response.status_code == 200:\n",
    "    print('Customer created successfully')\n",
    "else:\n",
    "    print('Failed to create customer')\n",
    "    print(response.content)"
   ]
  },
  {
   "cell_type": "code",
   "execution_count": 33,
   "id": "891f785e",
   "metadata": {},
   "outputs": [],
   "source": [
    "response = requests.get(f'{URL}/customers')"
   ]
  },
  {
   "cell_type": "code",
   "execution_count": 34,
   "id": "2cad3fa0",
   "metadata": {},
   "outputs": [
    {
     "name": "stdout",
     "output_type": "stream",
     "text": [
      "Customers brought successfully\n"
     ]
    }
   ],
   "source": [
    "if response.status_code == 200:\n",
    "    print('Customers brought successfully')\n",
    "else:\n",
    "    print('Failed to Bring customer')\n",
    "    print(response.content)"
   ]
  },
  {
   "cell_type": "code",
   "execution_count": 35,
   "id": "b1187a12",
   "metadata": {},
   "outputs": [
    {
     "data": {
      "text/plain": [
       "{'status': 'success',\n",
       " 'data': [{'id_customer': 1,\n",
       "   'id_credit': 1,\n",
       "   'name': 'Hiba',\n",
       "   'password': '1234',\n",
       "   'phone_number': 588523203,\n",
       "   'vip': 1,\n",
       "   'location_lat': 12.0,\n",
       "   'location_lng': 16.0,\n",
       "   'location_address': 'Tecom'},\n",
       "  {'id_customer': 2,\n",
       "   'id_credit': 123,\n",
       "   'name': 'John Doe',\n",
       "   'password': 'password123',\n",
       "   'phone_number': 1234567890,\n",
       "   'vip': 0,\n",
       "   'location_lat': 37.0,\n",
       "   'location_lng': -123.0,\n",
       "   'location_address': '123 Main St'},\n",
       "  {'id_customer': 5,\n",
       "   'id_credit': 13,\n",
       "   'name': 'khaled',\n",
       "   'password': 'password123',\n",
       "   'phone_number': 1234576,\n",
       "   'vip': 0,\n",
       "   'location_lat': 37.0,\n",
       "   'location_lng': -123.0,\n",
       "   'location_address': '123 Main St'},\n",
       "  {'id_customer': 6,\n",
       "   'id_credit': 15,\n",
       "   'name': 'lama',\n",
       "   'password': 'password123',\n",
       "   'phone_number': 12345776,\n",
       "   'vip': 0,\n",
       "   'location_lat': 37.0,\n",
       "   'location_lng': -123.0,\n",
       "   'location_address': '123 Main St'},\n",
       "  {'id_customer': 7,\n",
       "   'id_credit': 19,\n",
       "   'name': 'mona',\n",
       "   'password': 'password123',\n",
       "   'phone_number': 123645776,\n",
       "   'vip': 0,\n",
       "   'location_lat': 37.0,\n",
       "   'location_lng': -123.0,\n",
       "   'location_address': '123 Main St'},\n",
       "  {'id_customer': 8,\n",
       "   'id_credit': 1,\n",
       "   'name': 'khaled',\n",
       "   'password': 'password',\n",
       "   'phone_number': 589548655,\n",
       "   'vip': 1,\n",
       "   'location_lat': 0.0,\n",
       "   'location_lng': 0.0,\n",
       "   'location_address': 'nahr 3isheh'}]}"
      ]
     },
     "execution_count": 35,
     "metadata": {},
     "output_type": "execute_result"
    }
   ],
   "source": [
    "import json \n",
    "\n",
    "json.loads(response.content.decode(\"utf-8\"))"
   ]
  },
  {
   "cell_type": "code",
   "execution_count": null,
   "id": "cd16fc35",
   "metadata": {},
   "outputs": [],
   "source": []
  },
  {
   "cell_type": "code",
   "execution_count": null,
   "id": "6018cebc",
   "metadata": {},
   "outputs": [],
   "source": []
  },
  {
   "cell_type": "code",
   "execution_count": null,
   "id": "12d48143",
   "metadata": {},
   "outputs": [],
   "source": []
  }
 ],
 "metadata": {
  "kernelspec": {
   "display_name": "Python 3 (ipykernel)",
   "language": "python",
   "name": "python3"
  },
  "language_info": {
   "codemirror_mode": {
    "name": "ipython",
    "version": 3
   },
   "file_extension": ".py",
   "mimetype": "text/x-python",
   "name": "python",
   "nbconvert_exporter": "python",
   "pygments_lexer": "ipython3",
   "version": "3.11.3"
  }
 },
 "nbformat": 4,
 "nbformat_minor": 5
}
